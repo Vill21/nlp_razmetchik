{
 "cells": [
  {
   "cell_type": "code",
   "execution_count": 1,
   "metadata": {},
   "outputs": [],
   "source": [
    "import pandas as pd\n",
    "import re\n",
    "import json\n",
    "import os\n",
    "import numpy as np"
   ]
  },
  {
   "cell_type": "code",
   "execution_count": 2,
   "metadata": {},
   "outputs": [],
   "source": [
    "ANEK_PATH = '../data/anek_utf8.txt'\n",
    "\n",
    "PREPARE_ANEK_TXT = False\n",
    "PREPARE_ANEK_COUCHDB = True"
   ]
  },
  {
   "cell_type": "code",
   "execution_count": 3,
   "metadata": {},
   "outputs": [],
   "source": [
    "aneks = list()\n",
    "with open(ANEK_PATH, 'r') as file:\n",
    "    for i, line in enumerate(file.read().splitlines()):\n",
    "        if line.startswith('<|startoftext|>'):\n",
    "            aneks.append(re.sub(r'\\<\\|startoftext\\|\\>', '', line, 1))"
   ]
  },
  {
   "cell_type": "code",
   "execution_count": 4,
   "metadata": {},
   "outputs": [],
   "source": [
    "if PREPARE_ANEK_TXT:\n",
    "    with open(ANEK_PATH, 'r') as readable, open('../data/anek_prepared.txt', 'w') as writeable:\n",
    "        aneks_tmp = list()\n",
    "        for i, line in enumerate(readable.readlines()):\n",
    "            if line.startswith('<|startoftext|>'):\n",
    "                aneks_tmp.append(re.sub(r'\\<\\|startoftext\\|\\>', '', line, 1))\n",
    "        writeable.writelines(aneks_tmp)"
   ]
  },
  {
   "cell_type": "code",
   "execution_count": 93,
   "metadata": {},
   "outputs": [],
   "source": [
    "if PREPARE_ANEK_COUCHDB:\n",
    "    if not os.path.exists('../data/couchdb/'):\n",
    "        os.mkdir('../data/couchdb/')\n",
    "    template = {\n",
    "        '_id': '',\n",
    "        'text': '',\n",
    "        'voted': {}\n",
    "    }\n",
    "    for i, text in enumerate(aneks):\n",
    "        with open(f'../data/couchdb/anek_{i}.json', 'w', encoding='utf8') as file:\n",
    "            template['_id'] = f'anek_{i}'\n",
    "            template['text'] = text\n",
    "            json.dump(template, file, indent=4, ensure_ascii=False)"
   ]
  },
  {
   "cell_type": "code",
   "execution_count": 84,
   "metadata": {},
   "outputs": [],
   "source": [
    "df = pd.DataFrame({'text': aneks})"
   ]
  },
  {
   "cell_type": "code",
   "execution_count": 85,
   "metadata": {},
   "outputs": [
    {
     "data": {
      "text/html": [
       "<div>\n",
       "<style scoped>\n",
       "    .dataframe tbody tr th:only-of-type {\n",
       "        vertical-align: middle;\n",
       "    }\n",
       "\n",
       "    .dataframe tbody tr th {\n",
       "        vertical-align: top;\n",
       "    }\n",
       "\n",
       "    .dataframe thead th {\n",
       "        text-align: right;\n",
       "    }\n",
       "</style>\n",
       "<table border=\"1\" class=\"dataframe\">\n",
       "  <thead>\n",
       "    <tr style=\"text-align: right;\">\n",
       "      <th></th>\n",
       "      <th>text</th>\n",
       "    </tr>\n",
       "  </thead>\n",
       "  <tbody>\n",
       "    <tr>\n",
       "      <th>0</th>\n",
       "      <td>Сразу после окончания Прямой линии, Путин пожа...</td>\n",
       "    </tr>\n",
       "    <tr>\n",
       "      <th>1</th>\n",
       "      <td>Это Аркадий. Аркадий попал в армию через посте...</td>\n",
       "    </tr>\n",
       "    <tr>\n",
       "      <th>2</th>\n",
       "      <td>Толкучка в атобусе. Автобус резко тормозит и ж...</td>\n",
       "    </tr>\n",
       "    <tr>\n",
       "      <th>3</th>\n",
       "      <td>Интересно, гадалка уже догадалась, что я еду к...</td>\n",
       "    </tr>\n",
       "    <tr>\n",
       "      <th>4</th>\n",
       "      <td>Идет одна бабка, на встречу другой и видит, чт...</td>\n",
       "    </tr>\n",
       "  </tbody>\n",
       "</table>\n",
       "</div>"
      ],
      "text/plain": [
       "                                                text\n",
       "0  Сразу после окончания Прямой линии, Путин пожа...\n",
       "1  Это Аркадий. Аркадий попал в армию через посте...\n",
       "2  Толкучка в атобусе. Автобус резко тормозит и ж...\n",
       "3  Интересно, гадалка уже догадалась, что я еду к...\n",
       "4  Идет одна бабка, на встречу другой и видит, чт..."
      ]
     },
     "execution_count": 85,
     "metadata": {},
     "output_type": "execute_result"
    }
   ],
   "source": [
    "df.head(5)"
   ]
  },
  {
   "cell_type": "code",
   "execution_count": 87,
   "metadata": {},
   "outputs": [
    {
     "data": {
      "text/html": [
       "<div>\n",
       "<style scoped>\n",
       "    .dataframe tbody tr th:only-of-type {\n",
       "        vertical-align: middle;\n",
       "    }\n",
       "\n",
       "    .dataframe tbody tr th {\n",
       "        vertical-align: top;\n",
       "    }\n",
       "\n",
       "    .dataframe thead th {\n",
       "        text-align: right;\n",
       "    }\n",
       "</style>\n",
       "<table border=\"1\" class=\"dataframe\">\n",
       "  <thead>\n",
       "    <tr style=\"text-align: right;\">\n",
       "      <th></th>\n",
       "      <th>text</th>\n",
       "    </tr>\n",
       "  </thead>\n",
       "  <tbody>\n",
       "    <tr>\n",
       "      <th>121647</th>\n",
       "      <td>Последним раскрытым громким преступлением в Ки...</td>\n",
       "    </tr>\n",
       "    <tr>\n",
       "      <th>121648</th>\n",
       "      <td>Если бесконечное количество российских футболи...</td>\n",
       "    </tr>\n",
       "    <tr>\n",
       "      <th>121649</th>\n",
       "      <td>На чемпионат мира по футболу от России нужно Ю...</td>\n",
       "    </tr>\n",
       "    <tr>\n",
       "      <th>121650</th>\n",
       "      <td>В целях профилактики от всего весной следует е...</td>\n",
       "    </tr>\n",
       "    <tr>\n",
       "      <th>121651</th>\n",
       "      <td>На моих глазах как-то две девушки затаскивали ...</td>\n",
       "    </tr>\n",
       "  </tbody>\n",
       "</table>\n",
       "</div>"
      ],
      "text/plain": [
       "                                                     text\n",
       "121647  Последним раскрытым громким преступлением в Ки...\n",
       "121648  Если бесконечное количество российских футболи...\n",
       "121649  На чемпионат мира по футболу от России нужно Ю...\n",
       "121650  В целях профилактики от всего весной следует е...\n",
       "121651  На моих глазах как-то две девушки затаскивали ..."
      ]
     },
     "execution_count": 87,
     "metadata": {},
     "output_type": "execute_result"
    }
   ],
   "source": [
    "df.tail(5)"
   ]
  },
  {
   "cell_type": "code",
   "execution_count": 92,
   "metadata": {},
   "outputs": [
    {
     "data": {
      "text/plain": [
       "True"
      ]
     },
     "execution_count": 92,
     "metadata": {},
     "output_type": "execute_result"
    }
   ],
   "source": [
    "np.all(df.text.apply(lambda x: len(x) > 0).to_numpy())"
   ]
  }
 ],
 "metadata": {
  "kernelspec": {
   "display_name": "nlp",
   "language": "python",
   "name": "python3"
  },
  "language_info": {
   "codemirror_mode": {
    "name": "ipython",
    "version": 3
   },
   "file_extension": ".py",
   "mimetype": "text/x-python",
   "name": "python",
   "nbconvert_exporter": "python",
   "pygments_lexer": "ipython3",
   "version": "3.11.8"
  }
 },
 "nbformat": 4,
 "nbformat_minor": 2
}
